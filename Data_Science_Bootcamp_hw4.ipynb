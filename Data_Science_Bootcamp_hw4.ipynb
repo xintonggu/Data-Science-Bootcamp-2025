{
  "nbformat": 4,
  "nbformat_minor": 0,
  "metadata": {
    "colab": {
      "provenance": []
    },
    "kernelspec": {
      "name": "python3",
      "display_name": "Python 3"
    },
    "language_info": {
      "name": "python"
    }
  },
  "cells": [
    {
      "cell_type": "code",
      "execution_count": 1,
      "metadata": {
        "colab": {
          "base_uri": "https://localhost:8080/"
        },
        "id": "9BMw5PmgvaEA",
        "outputId": "93b9658c-9dbf-449d-f7fc-2e8bf23c9ecf"
      },
      "outputs": [
        {
          "output_type": "stream",
          "name": "stdout",
          "text": [
            "--- Running Example Test for LeetCode 1050 ---\n",
            "\n",
            "Input DataFrame (ActorDirector Table):\n",
            "   actor_id  director_id  timestamp\n",
            "0         1            1          0\n",
            "1         1            1          1\n",
            "2         1            1          2\n",
            "3         1            2          3\n",
            "4         1            2          4\n",
            "5         2            1          5\n",
            "6         2            1          6\n",
            "\n",
            "Result (Pairs with >= 3 Collaborations):\n",
            "   actor_id  director_id\n",
            "0         1            1\n"
          ]
        }
      ],
      "source": [
        "# 1050. Actors and Directors Who Cooperated At Least Three Times (Pandas)\n",
        "\n",
        "import pandas as pd\n",
        "from typing import List\n",
        "\n",
        "def actors_and_directors(actor_director: pd.DataFrame) -> pd.DataFrame:\n",
        "    cooperation_counts = actor_director.groupby(\n",
        "        ['actor_id', 'director_id']\n",
        "    ).size().reset_index(name='cooperation_count')\n",
        "\n",
        "    qualified_pairs = cooperation_counts[\n",
        "        cooperation_counts['cooperation_count'] >= 3\n",
        "    ]\n",
        "\n",
        "    return qualified_pairs[['actor_id', 'director_id']]\n",
        "\n",
        "if __name__ == '__main__':\n",
        "    print(\"--- Running Example Test for LeetCode 1050 ---\")\n",
        "\n",
        "    data = {\n",
        "        'actor_id': [1, 1, 1, 1, 1, 2, 2],\n",
        "        'director_id': [1, 1, 1, 2, 2, 1, 1],\n",
        "        'timestamp': [0, 1, 2, 3, 4, 5, 6]\n",
        "    }\n",
        "    df = pd.DataFrame(data)\n",
        "\n",
        "    print(\"\\nInput DataFrame (ActorDirector Table):\")\n",
        "    print(df)\n",
        "\n",
        "    result = actors_and_directors(df)\n",
        "\n",
        "    print(\"\\nResult (Pairs with >= 3 Collaborations):\")\n",
        "    print(result)"
      ]
    },
    {
      "cell_type": "code",
      "source": [
        "# 1050. Actors and Directors Who Cooperated At Least Three Times (SQL)\n",
        "\n",
        "SELECT\n",
        "    actor_id,\n",
        "    director_id\n",
        "FROM\n",
        "    ActorDirector\n",
        "GROUP BY\n",
        "    actor_id,\n",
        "    director_id\n",
        "HAVING\n",
        "    COUNT(*) >= 3;"
      ],
      "metadata": {
        "id": "VY60Gjvw3M79"
      },
      "execution_count": null,
      "outputs": []
    },
    {
      "cell_type": "code",
      "source": [
        "# 1667. Fix Names in a Table (Pandas)\n",
        "\n",
        "import pandas as pd\n",
        "from typing import List\n",
        "\n",
        "def fix_names(users: pd.DataFrame) -> pd.DataFrame:\n",
        "    users['name'] = users['name'].str.capitalize()\n",
        "\n",
        "    users = users.sort_values(by='user_id', ascending=True).reset_index(drop=True)\n",
        "\n",
        "    return users[['user_id', 'name']]\n",
        "\n",
        "if __name__ == '__main__':\n",
        "    print(\"--- Running Example Test for User Name Fix ---\")\n",
        "\n",
        "    # Example 1:\n",
        "    data = {\n",
        "        'user_id': [1, 2],\n",
        "        'name': ['aLice', 'bOB']\n",
        "    }\n",
        "    df = pd.DataFrame(data)\n",
        "\n",
        "    print(\"\\nInput DataFrame (Users Table):\")\n",
        "    print(df)\n",
        "\n",
        "    result = fix_names(df.copy()) # Use .copy() to avoid modifying the original data frame outside the function\n",
        "\n",
        "    print(\"\\nResult (Fixed Names):\")\n",
        "    print(result)\n",
        "\n",
        "    # Example 2 (More complex names/ordering check):\n",
        "    data_complex = {\n",
        "        'user_id': [3, 1, 5, 2],\n",
        "        'name': ['joHN', 'mArY', 'PeTeR', 'sAM']\n",
        "    }\n",
        "    df_complex = pd.DataFrame(data_complex)\n",
        "\n",
        "    print(\"\\nInput DataFrame (Complex Order):\")\n",
        "    print(df_complex)\n",
        "\n",
        "    result_complex = fix_names(df_complex.copy())\n",
        "\n",
        "    print(\"\\nResult (Fixed Names and Ordered):\")\n",
        "    print(result_complex)"
      ],
      "metadata": {
        "colab": {
          "base_uri": "https://localhost:8080/"
        },
        "id": "GVA1I53p4OvT",
        "outputId": "f806aa5f-f462-43e9-b91d-c19e081d6dce"
      },
      "execution_count": 2,
      "outputs": [
        {
          "output_type": "stream",
          "name": "stdout",
          "text": [
            "--- Running Example Test for User Name Fix ---\n",
            "\n",
            "Input DataFrame (Users Table):\n",
            "   user_id   name\n",
            "0        1  aLice\n",
            "1        2    bOB\n",
            "\n",
            "Result (Fixed Names):\n",
            "   user_id   name\n",
            "0        1  Alice\n",
            "1        2    Bob\n",
            "\n",
            "Input DataFrame (Complex Order):\n",
            "   user_id   name\n",
            "0        3   joHN\n",
            "1        1   mArY\n",
            "2        5  PeTeR\n",
            "3        2    sAM\n",
            "\n",
            "Result (Fixed Names and Ordered):\n",
            "   user_id   name\n",
            "0        1   Mary\n",
            "1        2    Sam\n",
            "2        3   John\n",
            "3        5  Peter\n"
          ]
        }
      ]
    },
    {
      "cell_type": "code",
      "source": [
        "# 1667. Fix Names in a Table (SQL)\n",
        "\n",
        "SELECT\n",
        "    user_id, CONCAT(UPPER(SUBSTR(name, 1, 1)), LOWER(SUBSTR(name, 2))) AS name\n",
        "FROM\n",
        "    Users\n",
        "ORDER BY\n",
        "    user_id;"
      ],
      "metadata": {
        "id": "YY0bbzdC4bZ-"
      },
      "execution_count": null,
      "outputs": []
    },
    {
      "cell_type": "code",
      "source": [
        "# 175. Combine Two Tables (Pandas)\n",
        "\n",
        "import pandas as pd\n",
        "from typing import List\n",
        "\n",
        "def combine_two_tables(person: pd.DataFrame, address: pd.DataFrame) -> pd.DataFrame:\n",
        "    merged_df = pd.merge(\n",
        "        person,\n",
        "        address,\n",
        "        on='personId',\n",
        "        how='left'\n",
        "    )\n",
        "\n",
        "    return merged_df[['firstName', 'lastName', 'city', 'state']]\n",
        "\n",
        "if __name__ == '__main__':\n",
        "    print(\"--- Running Example Test for Combining Two Tables (Left Join) ---\")\n",
        "\n",
        "    # Input: Person table\n",
        "    person_data = {\n",
        "        'personId': [1, 2],\n",
        "        'lastName': ['Wang', 'Alice'],\n",
        "        'firstName': ['Allen', 'Bob']\n",
        "    }\n",
        "    person_df = pd.DataFrame(person_data)\n",
        "\n",
        "    # Input: Address table\n",
        "    address_data = {\n",
        "        'addressId': [1, 2],\n",
        "        'personId': [2, 3],\n",
        "        'city': ['New York City', 'Leetcode'],\n",
        "        'state': ['New York', 'California']\n",
        "    }\n",
        "    address_df = pd.DataFrame(address_data)\n",
        "\n",
        "    print(\"\\nInput DataFrame (Person Table):\")\n",
        "    print(person_df)\n",
        "\n",
        "    print(\"\\nInput DataFrame (Address Table):\")\n",
        "    print(address_df)\n",
        "\n",
        "    result = combine_two_tables(person_df.copy(), address_df.copy())\n",
        "\n",
        "    print(\"\\nResult (First Name, Last Name, City, State):\")\n",
        "    print(result)"
      ],
      "metadata": {
        "colab": {
          "base_uri": "https://localhost:8080/"
        },
        "id": "Egyb6VN58t3i",
        "outputId": "fac27092-5eef-4769-b54b-1b38d44e0d29"
      },
      "execution_count": 3,
      "outputs": [
        {
          "output_type": "stream",
          "name": "stdout",
          "text": [
            "--- Running Example Test for Combining Two Tables (Left Join) ---\n",
            "\n",
            "Input DataFrame (Person Table):\n",
            "   personId lastName firstName\n",
            "0         1     Wang     Allen\n",
            "1         2    Alice       Bob\n",
            "\n",
            "Input DataFrame (Address Table):\n",
            "   addressId  personId           city       state\n",
            "0          1         2  New York City    New York\n",
            "1          2         3       Leetcode  California\n",
            "\n",
            "Result (First Name, Last Name, City, State):\n",
            "  firstName lastName           city     state\n",
            "0     Allen     Wang            NaN       NaN\n",
            "1       Bob    Alice  New York City  New York\n"
          ]
        }
      ]
    },
    {
      "cell_type": "code",
      "source": [
        "# 175. Combine Two Tables (SQL)\n",
        "\n",
        "SELECT\n",
        "    P.firstName,\n",
        "    P.lastName,\n",
        "    A.city,\n",
        "    A.state\n",
        "FROM\n",
        "    Person P\n",
        "LEFT JOIN\n",
        "    Address A ON P.personId = A.personId;"
      ],
      "metadata": {
        "id": "USVQ1IIh880j"
      },
      "execution_count": null,
      "outputs": []
    },
    {
      "cell_type": "code",
      "source": [
        "# 176. Second Highest Salary (Pandas)\n",
        "\n",
        "import pandas as pd\n",
        "from typing import List\n",
        "\n",
        "def second_highest_salary(employee: pd.DataFrame) -> pd.DataFrame:\n",
        "    distinct_salaries = employee['salary'].drop_duplicates().sort_values(ascending=False)\n",
        "\n",
        "    if len(distinct_salaries) < 2:\n",
        "        second_highest = None\n",
        "    else:\n",
        "        second_highest = distinct_salaries.iloc[1]\n",
        "\n",
        "    result_df = pd.DataFrame(\n",
        "        {'SecondHighestSalary': [second_highest]}\n",
        "    )\n",
        "\n",
        "    return result_df\n",
        "\n",
        "if __name__ == '__main__':\n",
        "    print(\"--- Example 1 ---\")\n",
        "    data1 = [[1, 100], [2, 200], [3, 300]]\n",
        "    employee_df1 = pd.DataFrame(data1, columns=['id', 'salary'])\n",
        "    print(\"Input Employee Table (Example 1):\")\n",
        "    print(employee_df1.to_markdown(index=False))\n",
        "\n",
        "    output_df1 = second_highest_salary(employee_df1)\n",
        "    print(\"\\nOutput (Example 1):\")\n",
        "    print(output_df1.to_markdown(index=False))"
      ],
      "metadata": {
        "colab": {
          "base_uri": "https://localhost:8080/"
        },
        "id": "C_CcFazMADUp",
        "outputId": "d93884b0-f969-4ab8-847c-c5c28b19c1d0"
      },
      "execution_count": 6,
      "outputs": [
        {
          "output_type": "stream",
          "name": "stdout",
          "text": [
            "--- Example 1 ---\n",
            "Input Employee Table (Example 1):\n",
            "|   id |   salary |\n",
            "|-----:|---------:|\n",
            "|    1 |      100 |\n",
            "|    2 |      200 |\n",
            "|    3 |      300 |\n",
            "\n",
            "Output (Example 1):\n",
            "|   SecondHighestSalary |\n",
            "|----------------------:|\n",
            "|                   200 |\n"
          ]
        }
      ]
    },
    {
      "cell_type": "code",
      "source": [
        "# 176. Second Highest Salary (SQL)\n",
        "\n",
        "SELECT\n",
        "    (SELECT DISTINCT Salary\n",
        "     FROM Employee\n",
        "     ORDER BY Salary DESC\n",
        "     LIMIT 1 OFFSET 1) AS SecondHighestSalary;"
      ],
      "metadata": {
        "id": "9m3eSaGvAL-z"
      },
      "execution_count": null,
      "outputs": []
    }
  ]
}