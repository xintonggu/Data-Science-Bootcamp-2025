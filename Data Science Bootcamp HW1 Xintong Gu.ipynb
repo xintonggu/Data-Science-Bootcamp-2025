{
 "cells": [
  {
   "cell_type": "code",
   "execution_count": 4,
   "id": "46eff096-8c4c-4094-b92e-1a8ed8be7046",
   "metadata": {},
   "outputs": [
    {
     "name": "stdin",
     "output_type": "stream",
     "text": [
      "Enter a word or phrase to count its vowels:  hello\n"
     ]
    },
    {
     "name": "stdout",
     "output_type": "stream",
     "text": [
      "\n",
      "The word you entered is: 'hello'\n",
      "The number of vowels found is: 2\n"
     ]
    }
   ],
   "source": [
    "# 1. Write a program that takes a word as an input and print the number of vowels in the word.\n",
    "\n",
    "import string\n",
    "\n",
    "def count_vowels(word: str) -> int:\n",
    "    \"\"\"\n",
    "    Counts the number of vowels (a, e, i, o, u) in a given word.\n",
    "\n",
    "    The function handles case-insensitivity by converting the input word\n",
    "    to lowercase before counting.\n",
    "\n",
    "    Args:\n",
    "        word (str): The input string (word or phrase).\n",
    "\n",
    "    Returns:\n",
    "        int: The total count of vowels found.\n",
    "    \"\"\"\n",
    "    # Define the set of vowels for quick lookup\n",
    "    vowels = {'a', 'e', 'i', 'o', 'u'}\n",
    "\n",
    "    # Convert the word to lowercase to ensure case-insensitivity (e.g., 'A' counts as a vowel)\n",
    "    lower_word = word.lower()\n",
    "\n",
    "    # Use a generator expression with sum() for an efficient count\n",
    "    # It checks if each character in the word is present in the vowels set.\n",
    "    vowel_count = sum(1 for char in lower_word if char in vowels)\n",
    "\n",
    "    return vowel_count\n",
    "\n",
    "# --- Main execution block for Jupyter/Script ---\n",
    "\n",
    "# Prompt the user for input\n",
    "user_input = input(\"Enter a word or phrase to count its vowels: \")\n",
    "\n",
    "# Get the count\n",
    "result = count_vowels(user_input)\n",
    "\n",
    "# Print the final result\n",
    "print(f\"\\nThe word you entered is: '{user_input}'\")\n",
    "print(f\"The number of vowels found is: {result}\")"
   ]
  },
  {
   "cell_type": "code",
   "execution_count": 5,
   "id": "26f05960-ba5d-426b-a836-d7a800822d57",
   "metadata": {},
   "outputs": [
    {
     "name": "stdout",
     "output_type": "stream",
     "text": [
      "Original list: ['tiger', 'elephant', 'monkey', 'zebra', 'panther']\n",
      "Animals in all caps:\n",
      "TIGER\n",
      "ELEPHANT\n",
      "MONKEY\n",
      "ZEBRA\n",
      "PANTHER\n"
     ]
    }
   ],
   "source": [
    "# 2. Iterate through the following list of animals and print each one in all caps.\n",
    "\n",
    "# List of animals\n",
    "animals = ['tiger', 'elephant', 'monkey', 'zebra', 'panther']\n",
    "\n",
    "print(\"Original list:\", animals)\n",
    "print(\"Animals in all caps:\")\n",
    "\n",
    "# Iterate through the list and print each animal name in uppercase\n",
    "for animal in animals:\n",
    "    print(animal.upper())"
   ]
  },
  {
   "cell_type": "code",
   "execution_count": 6,
   "id": "292817bc-e9f3-4a01-8d9e-a52c6000ab4c",
   "metadata": {},
   "outputs": [
    {
     "name": "stdout",
     "output_type": "stream",
     "text": [
      "Number 1: Odd\n",
      "Number 2: Even\n",
      "Number 3: Odd\n",
      "Number 4: Even\n",
      "Number 5: Odd\n",
      "Number 6: Even\n",
      "Number 7: Odd\n",
      "Number 8: Even\n",
      "Number 9: Odd\n",
      "Number 10: Even\n",
      "Number 11: Odd\n",
      "Number 12: Even\n",
      "Number 13: Odd\n",
      "Number 14: Even\n",
      "Number 15: Odd\n",
      "Number 16: Even\n",
      "Number 17: Odd\n",
      "Number 18: Even\n",
      "Number 19: Odd\n",
      "Number 20: Even\n"
     ]
    }
   ],
   "source": [
    "# 3. Write a program that iterates from 1 to 20, printing each number and whether it's odd or even.\n",
    "\n",
    "for number in range(1, 21):\n",
    "    \n",
    "    # Check if the number is divisible by 2 using the modulo operator (%).\n",
    "    # If the remainder is 0, the number is even.\n",
    "    if number % 2 == 0:\n",
    "        status = \"Even\"\n",
    "    else:\n",
    "        # Otherwise, the number is odd.\n",
    "        status = \"Odd\"\n",
    "        \n",
    "    # Print the result for the current number\n",
    "    print(f\"Number {number}: {status}\")"
   ]
  },
  {
   "cell_type": "code",
   "execution_count": 8,
   "id": "6ce2c305-5391-4486-ae60-300c7c2b7277",
   "metadata": {},
   "outputs": [
    {
     "name": "stdin",
     "output_type": "stream",
     "text": [
      "Enter a word or phrase (e.g., 'madam', 'nurses run'):  kayak\n"
     ]
    },
    {
     "name": "stdout",
     "output_type": "stream",
     "text": [
      "The input: 'kayak'\n",
      "Result: Your input is a Palindrome!\n"
     ]
    }
   ],
   "source": [
    "# 4. Write a program to check if a string is a palindrome or not.\n",
    "\n",
    "def is_palindrome(input_string: str) -> bool:\n",
    "    \"\"\"\n",
    "    Checks if a given string is a palindrome.\n",
    "    \n",
    "    The function cleans the string by removing non-alphanumeric characters \n",
    "    and converting it to lowercase before checking.\n",
    "    \n",
    "    Args:\n",
    "        input_string (str): The string to check.\n",
    "        \n",
    "    Returns:\n",
    "        bool: True if the string is a palindrome, False otherwise.\n",
    "    \"\"\"\n",
    "    # 1. Clean the string: Remove spaces and convert to lowercase.\n",
    "    #    We use isalnum() to keep only letters and numbers, which handles punctuation too.\n",
    "    cleaned_string = ''.join(char for char in input_string if char.isalnum()).lower()\n",
    "    \n",
    "    # 2. Check for palindrome property: \n",
    "    #    A string is a palindrome if it equals its reverse.\n",
    "    #    The [::-1] slice reverses the string.\n",
    "    return cleaned_string == cleaned_string[::-1]\n",
    "    \n",
    "try:\n",
    "    # Prompt the user for input\n",
    "    user_input = input(\"Enter a word or phrase (e.g., 'madam', 'nurses run'): \")\n",
    "    \n",
    "    # Check the status\n",
    "    if is_palindrome(user_input):\n",
    "        result_message = \"is a Palindrome!\"\n",
    "    else:\n",
    "        result_message = \"is not a Palindrome.\"\n",
    "        \n",
    "    # Print the result\n",
    "    print(f\"The input: '{user_input}'\")\n",
    "    print(f\"Result: Your input {result_message}\")\n",
    "\n",
    "except Exception as e:\n",
    "    print(f\"An error occurred in Palindrome Checker: {e}\")\n"
   ]
  },
  {
   "cell_type": "code",
   "execution_count": 9,
   "id": "ec57f3b5-eeaf-46ff-8f24-08c445ffb322",
   "metadata": {},
   "outputs": [
    {
     "name": "stdin",
     "output_type": "stream",
     "text": [
      "Enter the first integer:  1\n",
      "Enter the second integer:  2\n"
     ]
    },
    {
     "name": "stdout",
     "output_type": "stream",
     "text": [
      "\n",
      "First number entered: 1\n",
      "Second number entered: 2\n",
      "The sum of 1 and 2 is: 3\n"
     ]
    }
   ],
   "source": [
    "# 5. Write a function sum_of_integers(a, b) that takes two integers as input from the user and returns their sum.\n",
    "\n",
    "def sum_of_integers(a: int, b: int) -> int:\n",
    "    \"\"\"\n",
    "    Calculates and returns the sum of two integers.\n",
    "    \n",
    "    Args:\n",
    "        a (int): The first integer.\n",
    "        b (int): The second integer.\n",
    "        \n",
    "    Returns:\n",
    "        int: The sum of a and b.\n",
    "    \"\"\"\n",
    "    return a + b\n",
    "\n",
    "try:\n",
    "    # 1. Get the first integer input from the user\n",
    "    input_a = input(\"Enter the first integer: \")\n",
    "    num_a = int(input_a)\n",
    "    \n",
    "    # 2. Get the second integer input from the user\n",
    "    input_b = input(\"Enter the second integer: \")\n",
    "    num_b = int(input_b)\n",
    "    \n",
    "    # 3. Call the function\n",
    "    total_sum = sum_of_integers(num_a, num_b)\n",
    "    \n",
    "    # 4. Print the result\n",
    "    print(f\"\\nFirst number entered: {num_a}\")\n",
    "    print(f\"Second number entered: {num_b}\")\n",
    "    print(f\"The sum of {num_a} and {num_b} is: {total_sum}\")\n",
    "\n",
    "except ValueError:\n",
    "    # Handle cases where the user inputs something that isn't a valid integer\n",
    "    print(\"\\nError: Please ensure both inputs are valid whole numbers (integers).\")\n",
    "except Exception as e:\n",
    "    print(f\"An unexpected error occurred: {e}\")\n"
   ]
  },
  {
   "cell_type": "code",
   "execution_count": null,
   "id": "220572d7-8543-43fe-8ed8-4e33eb874c0f",
   "metadata": {},
   "outputs": [],
   "source": []
  }
 ],
 "metadata": {
  "kernelspec": {
   "display_name": "Python [conda env:base] *",
   "language": "python",
   "name": "conda-base-py"
  },
  "language_info": {
   "codemirror_mode": {
    "name": "ipython",
    "version": 3
   },
   "file_extension": ".py",
   "mimetype": "text/x-python",
   "name": "python",
   "nbconvert_exporter": "python",
   "pygments_lexer": "ipython3",
   "version": "3.13.5"
  }
 },
 "nbformat": 4,
 "nbformat_minor": 5
}
