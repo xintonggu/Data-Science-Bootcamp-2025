{
  "nbformat": 4,
  "nbformat_minor": 0,
  "metadata": {
    "colab": {
      "provenance": []
    },
    "kernelspec": {
      "name": "python3",
      "display_name": "Python 3"
    },
    "language_info": {
      "name": "python"
    }
  },
  "cells": [
    {
      "cell_type": "code",
      "execution_count": 2,
      "metadata": {
        "colab": {
          "base_uri": "https://localhost:8080/"
        },
        "id": "c0Pw_982fKbs",
        "outputId": "47e5b200-967e-48b8-c055-571b6f75b24a"
      },
      "outputs": [
        {
          "output_type": "stream",
          "name": "stdout",
          "text": [
            "Array A:\n",
            " [[1 2 3]\n",
            " [4 5 6]]\n",
            "Array B:\n",
            " [[10 20 30]\n",
            " [40 50 60]]\n"
          ]
        }
      ],
      "source": [
        "# Numpy 1\n",
        "\n",
        "import numpy as np\n",
        "\n",
        "# Define array A (2 rows, 3 columns)\n",
        "A = np.array([[1, 2, 3],\n",
        "              [4, 5, 6]])\n",
        "\n",
        "# Define array B (2 rows, 3 columns)\n",
        "B = np.array([[10, 20, 30],\n",
        "              [40, 50, 60]])\n",
        "\n",
        "print(\"Array A:\\n\", A)\n",
        "print(\"Array B:\\n\", B)"
      ]
    },
    {
      "cell_type": "code",
      "source": [
        "# Numpy 2\n",
        "\n",
        "import numpy as np\n",
        "\n",
        "# Define the arrays (as previously defined)\n",
        "A = np.array([[1, 2, 3],\n",
        "              [4, 5, 6]])\n",
        "\n",
        "B = np.array([[10, 20, 30],\n",
        "              [40, 5, 60]])\n",
        "\n",
        "# 1. Flatten the arrays to ensure a proper set-like intersection\n",
        "# The intersect1d function works on 1D arrays.\n",
        "A_flat = A.flatten()\n",
        "B_flat = B.flatten()\n",
        "\n",
        "# 2. Find the intersection (common elements)\n",
        "common_elements = np.intersect1d(A_flat, B_flat)\n",
        "\n",
        "print(\"Flattened Array A:\", A_flat)\n",
        "print(\"Flattened Array B:\", B_flat)\n",
        "print(\"Common Elements (Intersection):\", common_elements)"
      ],
      "metadata": {
        "colab": {
          "base_uri": "https://localhost:8080/"
        },
        "id": "tQ1ZyYanf5Gx",
        "outputId": "7f655e73-5ec2-488e-c124-5ca8737bfd16"
      },
      "execution_count": 4,
      "outputs": [
        {
          "output_type": "stream",
          "name": "stdout",
          "text": [
            "Flattened Array A: [1 2 3 4 5 6]\n",
            "Flattened Array B: [10 20 30 40  5 60]\n",
            "Common Elements (Intersection): [5]\n"
          ]
        }
      ]
    },
    {
      "cell_type": "code",
      "source": [
        "# Numpy 3\n",
        "\n",
        "import numpy as np\n",
        "\n",
        "# Define the array A (2x3)\n",
        "A = np.array([[1, 2, 3],\n",
        "              [4, 5, 6]])\n",
        "\n",
        "# Define the specific range\n",
        "lower_bound = 5\n",
        "upper_bound = 10\n",
        "\n",
        "# Create a boolean mask: check if elements are >= 5 AND <= 10\n",
        "# The '&' operator performs the element-wise logical AND\n",
        "mask = (A >= lower_bound) & (A <= upper_bound)\n",
        "\n",
        "# Apply the mask to array A to extract the elements\n",
        "extracted_numbers = A[mask]\n",
        "\n",
        "print(\"Original Array A:\\n\", A)\n",
        "print(f\"Elements in the range [{lower_bound}, {upper_bound}]:\", extracted_numbers)"
      ],
      "metadata": {
        "colab": {
          "base_uri": "https://localhost:8080/"
        },
        "id": "gTTo2A4cg4UW",
        "outputId": "94bab82f-86ef-47ba-d039-d198dc094fc8"
      },
      "execution_count": 6,
      "outputs": [
        {
          "output_type": "stream",
          "name": "stdout",
          "text": [
            "Original Array A:\n",
            " [[1 2 3]\n",
            " [4 5 6]]\n",
            "Elements in the range [5, 10]: [5 6]\n"
          ]
        }
      ]
    },
    {
      "cell_type": "code",
      "source": [
        "# Numpy 4\n",
        "\n",
        "import numpy as np\n",
        "from sklearn.datasets import load_iris\n",
        "\n",
        "# Load the Iris dataset features into the iris_2d array\n",
        "# Columns: 0=Sepal Length, 1=Sepal Width, 2=Petal Length, 3=Petal Width\n",
        "iris_data = load_iris()\n",
        "iris_2d = iris_data.data\n",
        "\n",
        "# Define the filtering conditions:\n",
        "# Condition 1: Petal Length (3rd column, index 2) > 1.5\n",
        "condition_petal_length = iris_2d[:, 2] > 1.5\n",
        "\n",
        "# Condition 2: Sepal Length (1st column, index 0) < 5.0\n",
        "condition_sepal_length = iris_2d[:, 0] < 5.0\n",
        "\n",
        "# Combine the conditions using the element-wise logical AND operator (&)\n",
        "combined_mask = condition_petal_length & condition_sepal_length\n",
        "\n",
        "# Apply the boolean mask to the iris_2d array to filter the rows\n",
        "filtered_rows = iris_2d[combined_mask]\n",
        "\n",
        "print(\"--- Filtered Rows ---\")\n",
        "print(filtered_rows)"
      ],
      "metadata": {
        "colab": {
          "base_uri": "https://localhost:8080/"
        },
        "id": "X96OWaFMiGLH",
        "outputId": "fb27fccb-bb98-4eb3-a3bb-3557daa7fac9"
      },
      "execution_count": 2,
      "outputs": [
        {
          "output_type": "stream",
          "name": "stdout",
          "text": [
            "--- Filtered Rows ---\n",
            "[[4.8 3.4 1.6 0.2]\n",
            " [4.8 3.4 1.9 0.2]\n",
            " [4.7 3.2 1.6 0.2]\n",
            " [4.8 3.1 1.6 0.2]\n",
            " [4.9 2.4 3.3 1. ]\n",
            " [4.9 2.5 4.5 1.7]]\n"
          ]
        }
      ]
    },
    {
      "cell_type": "code",
      "source": [
        "# Pandas 1\n",
        "\n",
        "import pandas as pd\n",
        "\n",
        "# Load the dataset (assuming successful loading)\n",
        "url = 'https://raw.githubusercontent.com/selva86/datasets/master/Cars93_miss.csv'\n",
        "df = pd.read_csv(url)\n",
        "\n",
        "# 1. Filter rows using iloc[0::20]\n",
        "filtered_rows = df.iloc[0::20]\n",
        "\n",
        "# 2. Select the required columns\n",
        "result = filtered_rows[['Manufacturer', 'Model', 'Type']]\n",
        "\n",
        "print(result)"
      ],
      "metadata": {
        "colab": {
          "base_uri": "https://localhost:8080/"
        },
        "id": "G-vvQFOOzCmH",
        "outputId": "8f978229-c10c-4fbf-ca4f-361a3e3bdba6"
      },
      "execution_count": 3,
      "outputs": [
        {
          "output_type": "stream",
          "name": "stdout",
          "text": [
            "   Manufacturer    Model     Type\n",
            "0         Acura  Integra    Small\n",
            "20     Chrysler  LeBaron  Compact\n",
            "40        Honda  Prelude   Sporty\n",
            "60      Mercury   Cougar  Midsize\n",
            "80       Subaru   Loyale    Small\n"
          ]
        }
      ]
    },
    {
      "cell_type": "code",
      "source": [
        "# Pandas 2\n",
        "\n",
        "import pandas as pd\n",
        "\n",
        "# Load the dataset\n",
        "url = 'https://raw.githubusercontent.com/selva86/datasets/master/Cars93_miss.csv'\n",
        "df = pd.read_csv(url)\n",
        "\n",
        "# --- Mean Imputation (Warning-Free Method) ---\n",
        "\n",
        "# 1. Calculate the mean of non-missing values for each column\n",
        "mean_min_price = df['Min.Price'].mean()\n",
        "mean_max_price = df['Max.Price'].mean()\n",
        "\n",
        "# 2. Replace missing values by REASSIGNING the result of .fillna()\n",
        "# This explicitly modifies the column in the original DataFrame, avoiding the warning.\n",
        "df['Min.Price'] = df['Min.Price'].fillna(mean_min_price)\n",
        "df['Max.Price'] = df['Max.Price'].fillna(mean_max_price)\n",
        "\n",
        "# --- Verification ---\n",
        "\n",
        "print(\"--- Imputation Successful ---\")\n",
        "# The 'isnull().sum()' should confirm 0 missing values for both columns.\n",
        "print(\"Missing values after imputation:\")\n",
        "print(df[['Min.Price', 'Max.Price']].isnull().sum())\n",
        "print(\"\\nFirst 5 rows (showing imputed values):\")\n",
        "# Example: Index 4 had a missing Min.Price (it is now the mean value).\n",
        "print(df.head())"
      ],
      "metadata": {
        "colab": {
          "base_uri": "https://localhost:8080/"
        },
        "id": "YUwHilLr0I7b",
        "outputId": "db3ab3aa-254c-413c-cdb5-77b41fea39fe"
      },
      "execution_count": 5,
      "outputs": [
        {
          "output_type": "stream",
          "name": "stdout",
          "text": [
            "--- Imputation Successful ---\n",
            "Missing values after imputation:\n",
            "Min.Price    0\n",
            "Max.Price    0\n",
            "dtype: int64\n",
            "\n",
            "First 5 rows (showing imputed values):\n",
            "  Manufacturer    Model     Type  Min.Price  Price  Max.Price  MPG.city  \\\n",
            "0        Acura  Integra    Small  12.900000   15.9  18.800000      25.0   \n",
            "1          NaN   Legend  Midsize  29.200000   33.9  38.700000      18.0   \n",
            "2         Audi       90  Compact  25.900000   29.1  32.300000      20.0   \n",
            "3         Audi      100  Midsize  17.118605   37.7  44.600000      19.0   \n",
            "4          BMW     535i  Midsize  17.118605   30.0  21.459091      22.0   \n",
            "\n",
            "   MPG.highway             AirBags DriveTrain  ... Passengers  Length  \\\n",
            "0         31.0                 NaN      Front  ...        5.0   177.0   \n",
            "1         25.0  Driver & Passenger      Front  ...        5.0   195.0   \n",
            "2         26.0         Driver only      Front  ...        5.0   180.0   \n",
            "3         26.0  Driver & Passenger        NaN  ...        6.0   193.0   \n",
            "4         30.0                 NaN       Rear  ...        4.0   186.0   \n",
            "\n",
            "   Wheelbase  Width  Turn.circle Rear.seat.room  Luggage.room  Weight  \\\n",
            "0      102.0   68.0         37.0           26.5           NaN  2705.0   \n",
            "1      115.0   71.0         38.0           30.0          15.0  3560.0   \n",
            "2      102.0   67.0         37.0           28.0          14.0  3375.0   \n",
            "3      106.0    NaN         37.0           31.0          17.0  3405.0   \n",
            "4      109.0   69.0         39.0           27.0          13.0  3640.0   \n",
            "\n",
            "    Origin           Make  \n",
            "0  non-USA  Acura Integra  \n",
            "1  non-USA   Acura Legend  \n",
            "2  non-USA        Audi 90  \n",
            "3  non-USA       Audi 100  \n",
            "4  non-USA       BMW 535i  \n",
            "\n",
            "[5 rows x 27 columns]\n"
          ]
        }
      ]
    },
    {
      "cell_type": "code",
      "source": [
        "# Pandas 3\n",
        "\n",
        "import pandas as pd\n",
        "import numpy as np\n",
        "\n",
        "# Create the sample DataFrame\n",
        "df = pd.DataFrame(np.random.randint(10, 40, 60).reshape(-1, 4))\n",
        "\n",
        "# --- Filtering Logic ---\n",
        "\n",
        "# 1. Calculate the sum of each row (axis=1). This returns a Series of row totals.\n",
        "row_sums = df.sum(axis=1)\n",
        "\n",
        "# 2. Create a Boolean mask: True for rows where the sum is greater than 100.\n",
        "mask = row_sums > 100\n",
        "\n",
        "# 3. Apply the mask to the DataFrame to get the filtered rows.\n",
        "filtered_df = df[mask]\n",
        "\n",
        "print(\"--- Original DataFrame (First 5 Rows) ---\")\n",
        "print(df.head())\n",
        "print(\"\\n--- Boolean Mask (Row Sums > 100) ---\")\n",
        "print(mask.head())\n",
        "print(\"\\n--- Filtered Rows (Row Sum > 100) ---\")\n",
        "print(filtered_df)"
      ],
      "metadata": {
        "colab": {
          "base_uri": "https://localhost:8080/"
        },
        "id": "R99nvMBS0tlw",
        "outputId": "d4d0f56d-2ddc-4ab6-b518-746525148c90"
      },
      "execution_count": 6,
      "outputs": [
        {
          "output_type": "stream",
          "name": "stdout",
          "text": [
            "--- Original DataFrame (First 5 Rows) ---\n",
            "    0   1   2   3\n",
            "0  27  21  33  31\n",
            "1  12  36  20  25\n",
            "2  35  18  11  34\n",
            "3  10  19  13  17\n",
            "4  14  26  31  33\n",
            "\n",
            "--- Boolean Mask (Row Sums > 100) ---\n",
            "0     True\n",
            "1    False\n",
            "2    False\n",
            "3    False\n",
            "4     True\n",
            "dtype: bool\n",
            "\n",
            "--- Filtered Rows (Row Sum > 100) ---\n",
            "     0   1   2   3\n",
            "0   27  21  33  31\n",
            "4   14  26  31  33\n",
            "5   20  39  33  32\n",
            "9   23  39  16  25\n",
            "11  38  35  14  34\n",
            "13  35  10  34  24\n",
            "14  13  39  37  27\n"
          ]
        }
      ]
    }
  ]
}